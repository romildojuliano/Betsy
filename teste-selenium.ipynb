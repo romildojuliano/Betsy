{
 "cells": [
  {
   "cell_type": "code",
   "execution_count": 158,
   "id": "ed56537a",
   "metadata": {},
   "outputs": [],
   "source": [
    "casas_de_aposta_BR =  [\n",
    " 'Dafabet',\n",
    " 'Betfair',\n",
    " 'Betway',\n",
    " 'Betano',\n",
    " 'Bet365',\n",
    " 'Galera Bet',\n",
    " 'Betsson',\n",
    " '22BET',\n",
    " 'Betwinner',\n",
    " 'Rabona',\n",
    " '888sport',\n",
    " 'LeoVegas',\n",
    " 'Rivalo',\n",
    " 'Parimatch',\n",
    " 'Sportaza',\n",
    " 'Betkwiff',\n",
    " 'Amuletobet',\n",
    " '20BET',\n",
    " 'Powbet',\n",
    " 'FezBet',\n",
    " 'Campeonbet',\n",
    " 'Melbet',\n",
    " 'Pixbet',\n",
    " 'BetWarrior',\n",
    " 'Bet7',\n",
    " 'Megapari',\n",
    " 'KTO',\n",
    " 'Vbet',\n",
    " 'CampoBet',\n",
    " 'CyberBet',\n",
    " 'LVBET',\n",
    " 'Betmaster',\n",
    " 'Bodog',\n",
    " 'Fansbet',\n",
    " 'Betmotion'\n",
    "]\n",
    "\n",
    "casas_de_aposta_BR = list(map(lambda s: s.lower(), casas_de_aposta_BR))"
   ]
  },
  {
   "cell_type": "markdown",
   "id": "f8dacc0d",
   "metadata": {},
   "source": [
    "### Bet365"
   ]
  },
  {
   "cell_type": "code",
   "execution_count": 100,
   "id": "39709db7",
   "metadata": {},
   "outputs": [
    {
     "name": "stdout",
     "output_type": "stream",
     "text": [
      "['Goiás', 'v', 'Atlético Goianiense', 'Qua 19:00', '7', '1', '2.87', 'X', '3.10', '2', '2.60', 'Ceará', 'v', 'Fortaleza', 'Qua 20:00', '6', '1', '2.30', 'X', '3.10', '2', '3.30', 'Flamengo', 'v', 'Atlético Mineiro', 'Qua 21:30', '6', '1', '2.00', 'X', '3.40', '2', '3.75', 'Santos', 'v', 'Corinthians', 'Qua 21:30', '5', '1', '2.20', 'X', '3.25', '2', '3.50']\n",
      "['Austin FC', 'v', 'Houston Dynamo', 'Hoje 22:00', '6', '1', '1.95', 'X', '4.00', '2', '3.40', 'Millonarios', 'v', 'Atletico Bucaramanga', 'Hoje 22:05', '4', '1', '1.33', 'X', '4.75', '2', '11.00', 'Dinamo Batumi', 'v', 'Slovan Bratislava', 'Qua 14:00', '6', '1', '2.40', 'X', '2.87', '2', '2.80', 'Shakhter Soligorsk', 'v', 'NK Maribor', 'Qua 14:00', '6', '1', '2.45', 'X', '2.90', '2', '2.75', 'KÍ Klaksvík', 'v', 'Bodo/Glimt', 'Qua 14:00', '6', '1', '5.00', 'X', '4.00', '2', '1.60', 'Ferencvarosi TC', 'v', 'Tobol Kostanay', 'Qua 15:00', '6', '1', '1.33', 'X', '4.00', '2', '8.00', 'CFR Cluj', 'v', 'Pyunik Yerevan', 'Qua 15:30', '4', '1', '1.25', 'X', '5.00', '2', '8.50', 'Linfield', 'v', 'The New Saints', 'Qua 15:45', '6', '1', '2.20', 'X', '3.25', '2', '2.80', 'Suécia - Feminino', 'v', 'Suíça - Feminino', 'Qua 13:00', '6', '1', '1.20', 'X', '6.00', '2', '15.00', 'Países Baixos - Feminino', 'v', 'Portugal - Feminino', 'Qua 16:00', '6', '1', '1.40', 'X', '4.75', '2', '7.00', 'Cerezo Osaka', 'v', 'Nagoya Grampus', 'Qua 06:30', '4', '1', '2.30', 'X', '3.10', '2', '3.00', 'Kashima Antlers', 'v', 'Gamba Osaka', 'Qua 07:00', '4', '1', '1.53', 'X', '4.00', '2', '5.00', 'Vissel Kobe', 'v', 'Kashiwa Reysol', 'Qua 07:00', '4', '1', '2.10', 'X', '3.25', '2', '3.10']\n"
     ]
    }
   ],
   "source": [
    "from selenium import webdriver\n",
    "from bs4 import BeautifulSoup\n",
    "import time\n",
    "\n",
    "url = \"https://www.bet365.com/\"\n",
    "driver = webdriver.Chrome()\n",
    "elements = False\n",
    "\n",
    "try:\n",
    "    driver.maximize_window()\n",
    "    driver.get(url)\n",
    "    time.sleep(10)\n",
    "    elements = driver.execute_script('return document.getElementsByClassName(\"gl-MarketGrid gl-MarketGrid-wide\")')\n",
    "except Exception as e:\n",
    "    print(f\"Um erro ocorreu ao executar o arquivo: \\nLog: {e}\")\n",
    "\n",
    "for webElement in elements:\n",
    "    HTMLelement = webElement.get_attribute('outerHTML')\n",
    "    SoupElement = BeautifulSoup(HTMLelement, 'html.parser')\n",
    "    print([text for text in SoupElement.stripped_strings])\n",
    "\n",
    "driver.close()"
   ]
  },
  {
   "cell_type": "markdown",
   "id": "cc428aea",
   "metadata": {},
   "source": [
    "### OddsPortal\n"
   ]
  },
  {
   "cell_type": "code",
   "execution_count": null,
   "id": "a9717010",
   "metadata": {},
   "outputs": [],
   "source": [
    "from selenium import webdriver\n",
    "from bs4 import BeautifulSoup\n",
    "\n",
    "url = \"https://www.oddsportal.com/soccer/brazil/serie-a/#\"\n",
    "driver = webdriver.Chrome()\n",
    "elements = False\n",
    "\n",
    "try:\n",
    "    driver.maximize_window()\n",
    "    driver.get(url)\n",
    "    time.sleep(10)\n",
    "    elements = driver.execute_script('return document.getElementsByClassName(\"table-main\")')\n",
    "except Exception as e:\n",
    "    print(f\"Um erro ocorreu ao executar o arquivo: \\nLog: {e}\")\n",
    "\n",
    "for webElement in elements:\n",
    "    HTMLelement = webElement.get_attribute('outerHTML')\n",
    "    SoupElement = BeautifulSoup(HTMLelement, 'html.parser')\n",
    "    print([text for text in SoupElement.stripped_strings])\n",
    "\n",
    "driver.close()"
   ]
  },
  {
   "cell_type": "code",
   "execution_count": 137,
   "id": "efce83cb",
   "metadata": {},
   "outputs": [
    {
     "name": "stdout",
     "output_type": "stream",
     "text": [
      "['Bookmakers', '1', 'X', '2', 'Payout', '10x10bet', '2.33', '3.16', '3.34', '95.7%', '1xBet', '2.34', '3.28', '3.17', '95.4%', 'bet-at-home', '2.20', '3.10', '3.10', '90.9%', 'bet365', '2.25', '3.20', '3.30', '94.3%', 'BetFinal', '2.22', '3.15', '3.15', '92.1%', 'bwin', '2.25', '3.25', '3.30', '94.8%', 'Coolbet', '2.40', '3.15', '3.25', '96.0%', 'Curebet', '2.33', '3.16', '3.34', '95.7%', 'Ditobet', '2.36', '3.20', '3.40', '97.1%', 'GGBET', '2.33', '3.33', '3.12', '95.2%', 'Lasbet', '2.35', '3.19', '3.38', '96.6%', 'Marathonbet', '2.32', '3.28', '3.18', '95.2%', 'N1 Bet', '2.25', '3.19', '3.20', '93.4%', 'Parimatch', '2.30', '3.25', '3.25', '95.2%', 'Pinnacle', '2.31', '3.20', '3.40', '96.2%', 'Unibet', '2.30', '3.10', '3.10', '92.6%', 'VOBET', '2.25', '3.03', '3.21', '92.1%', 'William Hill', '2.25', '3.10', '3.20', '-', 'Click to show 39 more bookmakers!', 'GGBET.ru', 'Log in to display the odds!', 'Totolotek.pl', 'Log in to display the odds!', 'Marsbet', 'Log in to display the odds!', 'PlanetWin', 'Log in to display the odds!', 'Winline.ru', 'Log in to display the odds!', '1xStavka.ru', 'Log in to display the odds!', 'Betfair', 'Log in to display the odds!', 'bet365.it', 'Log in to display the odds!', 'Tipsport.sk', 'Log in to display the odds!', 'Sportium.es', 'Log in to display the odds!', 'bwin.es', 'Log in to display the odds!', 'ComeOn', 'Log in to display the odds!', 'WilliamHill.it', 'Log in to display the odds!', 'Eurobet.it', 'Log in to display the odds!', 'STS.pl', 'Log in to display the odds!', 'iFortuna.sk', 'Log in to display the odds!', 'eFortuna.pl', 'Log in to display the odds!', 'Unibet.it', 'Log in to display the odds!', 'Interwetten.es', 'Log in to display the odds!', 'Dafabet', 'Log in to display the odds!', 'Betclic.fr', 'Log in to display the odds!', 'France Pari', 'Log in to display the odds!', 'bwin.fr', 'Log in to display the odds!', 'youwin', 'Log in to display the odds!', 'BetVictor', 'Log in to display the odds!', '188BET', 'Log in to display the odds!', 'bwin.it', 'Log in to display the odds!', 'Tipsport.cz', 'Log in to display the odds!', 'iFortuna.cz', 'Log in to display the odds!', 'Chance.cz', 'Log in to display the odds!', 'Betsson', 'Log in to display the odds!', 'NordicBet', 'Log in to display the odds!', 'BoyleSports', 'Log in to display the odds!', '888sport', 'Log in to display the odds!', 'Betway', 'Log in to display the odds!', 'Betsafe', 'Log in to display the odds!', 'Betfred', 'Log in to display the odds!', '10Bet', 'Log in to display the odds!', 'Interwetten', 'Log in to display the odds!', 'Average', '2.30', '3.19', '3.25', '94.7%', 'Highest', '2.40', '3.33', '3.40', '98.9%', 'My Coupon', 'User Predictions', 'Log in to show!', 'Options:', 'OddsAlert', 'Notify me when odds reach or exceed this value:', 'Log in to display the OddsAlert!']\n"
     ]
    }
   ],
   "source": [
    "from selenium import webdriver\n",
    "from bs4 import BeautifulSoup\n",
    "\n",
    "url = \"https://www.oddsportal.com/soccer/brazil/serie-a/atletico-go-fortaleza-Ag4Ga4Y5/#1X2;2\"\n",
    "driver = webdriver.Chrome()\n",
    "elements = False\n",
    "\n",
    "try:\n",
    "    driver.maximize_window()\n",
    "    driver.get(url)\n",
    "    time.sleep(10)\n",
    "    webElement = driver.execute_script('return document.getElementsByClassName(\"table-main detail-odds sortable\")[0]')\n",
    "except Exception as e:\n",
    "    print(f\"Um erro ocorreu ao executar o arquivo: \\nLog: {e}\")\n",
    "\n",
    "\n",
    "HTMLelement = webElement.get_attribute('outerHTML')\n",
    "SoupElement = BeautifulSoup(HTMLelement, 'html.parser')\n",
    "raw_text = [text for text in SoupElement.stripped_strings]\n",
    "print(raw_text)\n",
    "\n",
    "driver.close()"
   ]
  },
  {
   "cell_type": "code",
   "execution_count": 165,
   "id": "dd216fb4",
   "metadata": {},
   "outputs": [
    {
     "data": {
      "text/html": [
       "<div>\n",
       "<style scoped>\n",
       "    .dataframe tbody tr th:only-of-type {\n",
       "        vertical-align: middle;\n",
       "    }\n",
       "\n",
       "    .dataframe tbody tr th {\n",
       "        vertical-align: top;\n",
       "    }\n",
       "\n",
       "    .dataframe thead th {\n",
       "        text-align: right;\n",
       "    }\n",
       "</style>\n",
       "<table border=\"1\" class=\"dataframe\">\n",
       "  <thead>\n",
       "    <tr style=\"text-align: right;\">\n",
       "      <th></th>\n",
       "      <th>odd_a</th>\n",
       "      <th>Empate</th>\n",
       "      <th>odd_b</th>\n",
       "      <th>payout</th>\n",
       "    </tr>\n",
       "  </thead>\n",
       "  <tbody>\n",
       "    <tr>\n",
       "      <th>bet365</th>\n",
       "      <td>2.25</td>\n",
       "      <td>3.20</td>\n",
       "      <td>3.30</td>\n",
       "      <td>94.3%</td>\n",
       "    </tr>\n",
       "    <tr>\n",
       "      <th>parimatch</th>\n",
       "      <td>2.30</td>\n",
       "      <td>3.25</td>\n",
       "      <td>3.25</td>\n",
       "      <td>95.2%</td>\n",
       "    </tr>\n",
       "  </tbody>\n",
       "</table>\n",
       "</div>"
      ],
      "text/plain": [
       "          odd_a Empate odd_b payout\n",
       "bet365     2.25   3.20  3.30  94.3%\n",
       "parimatch  2.30   3.25  3.25  95.2%"
      ]
     },
     "execution_count": 165,
     "metadata": {},
     "output_type": "execute_result"
    }
   ],
   "source": [
    "sites = dict()\n",
    "inc = 0\n",
    "try:\n",
    "    while True:\n",
    "        casa_aposta, odd_a, empate, odd_b, payout = raw_text[5+inc:10+inc]\n",
    "        casa_aposta = casa_aposta.lower()\n",
    "        if 'Log in to display the odds!' in [casa_aposta, odd_a, empate, odd_b, payout]:\n",
    "            break\n",
    "\n",
    "        if casa_aposta in casas_de_aposta_BR:\n",
    "            sites[casa_aposta] = {\n",
    "                \"odd_a\":    odd_a,\n",
    "                \"Empate\":   empate,\n",
    "                \"odd_b\":    odd_b,\n",
    "                \"payout\":   payout\n",
    "            }\n",
    "        inc += 5\n",
    "except:\n",
    "    pass\n",
    "\n",
    "df_odds = pd.DataFrame(sites).T\n",
    "df_odds"
   ]
  },
  {
   "cell_type": "code",
   "execution_count": null,
   "id": "a0517ea0",
   "metadata": {},
   "outputs": [],
   "source": []
  }
 ],
 "metadata": {
  "kernelspec": {
   "display_name": "Python 3 (ipykernel)",
   "language": "python",
   "name": "python3"
  },
  "language_info": {
   "codemirror_mode": {
    "name": "ipython",
    "version": 3
   },
   "file_extension": ".py",
   "mimetype": "text/x-python",
   "name": "python",
   "nbconvert_exporter": "python",
   "pygments_lexer": "ipython3",
   "version": "3.10.5"
  },
  "vscode": {
   "interpreter": {
    "hash": "d0f5b17bf2e0ae15bbaa4312450a0fd6c02ab3a236801ce07cd1404e18b674c4"
   }
  }
 },
 "nbformat": 4,
 "nbformat_minor": 5
}
