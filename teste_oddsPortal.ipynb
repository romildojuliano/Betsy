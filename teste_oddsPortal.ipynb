{
 "cells": [
  {
   "cell_type": "code",
   "execution_count": null,
   "metadata": {},
   "outputs": [],
   "source": [
    "import pandas as pd\n",
    "from selenium import webdriver\n",
    "from bs4 import BeautifulSoup\n",
    "import time\n",
    "from typing import List"
   ]
  },
  {
   "cell_type": "code",
   "execution_count": null,
   "metadata": {},
   "outputs": [],
   "source": [
    "CASAS_DE_APOSTA_BR = [\n",
    "    'Dafabet',\n",
    "    'Betfair',\n",
    "    'Betway',\n",
    "    'Betano',\n",
    "    'Bet365',\n",
    "    'Galera Bet',\n",
    "    'Betsson',\n",
    "    '22BET',\n",
    "    'Betwinner',\n",
    "    'Rabona',\n",
    "    '888sport',\n",
    "    'LeoVegas',\n",
    "    'Rivalo',\n",
    "    'Parimatch',\n",
    "    'Sportaza',\n",
    "    'Betkwiff',\n",
    "    'Amuletobet',\n",
    "    '20BET',\n",
    "    'Powbet',\n",
    "    'FezBet',\n",
    "    'Campeonbet',\n",
    "    'Melbet',\n",
    "    'Pixbet',\n",
    "    'BetWarrior',\n",
    "    'Bet7',\n",
    "    'Megapari',\n",
    "    'KTO',\n",
    "    'Vbet',\n",
    "    'CampoBet',\n",
    "    'CyberBet',\n",
    "    'LVBET',\n",
    "    'Betmaster',\n",
    "    'Bodog',\n",
    "    'Fansbet',\n",
    "    'Betmotion'\n",
    "]\n",
    "\n",
    "SUBURL = '/soccer/brazil/serie-a/'\n",
    "CASAS_DE_APOSTA_BR = list(map(lambda s: s.lower(), CASAS_DE_APOSTA_BR))\n",
    "\n",
    "available_games = list()\n",
    "sites = dict()"
   ]
  },
  {
   "cell_type": "code",
   "execution_count": null,
   "metadata": {},
   "outputs": [],
   "source": [
    "# Baixa as casas de aposta brasileiras para um determinado jogo\n",
    "def retrieve_bet_houses_info_from_spec_game(parsed_text: List[str]):\n",
    "    global sites\n",
    "    inc = 0\n",
    "    try:\n",
    "        while True:\n",
    "            casa_aposta, odd_a, empate, odd_b, payout = parsed_text[5+inc:10+inc]\n",
    "            casa_aposta = casa_aposta.lower()\n",
    "            if 'Log in to display the odds!' in [casa_aposta, odd_a, empate, odd_b, payout]:\n",
    "                break\n",
    "\n",
    "            if casa_aposta in CASAS_DE_APOSTA_BR:\n",
    "                sites[casa_aposta] = {\n",
    "                    \"odd_a\":    odd_a,\n",
    "                    \"Empate\":   empate,\n",
    "                    \"odd_b\":    odd_b,\n",
    "                    \"payout\":   payout\n",
    "                }\n",
    "            inc += 5\n",
    "    except:\n",
    "        pass\n",
    "    \n",
    "    # print(\"Sites obtidos: \", sites)\n",
    "    return pd.DataFrame(sites).T"
   ]
  },
  {
   "cell_type": "code",
   "execution_count": null,
   "metadata": {},
   "outputs": [],
   "source": [
    "def retrieve_game_parsed_text(URL: str):\n",
    "    webElement = None\n",
    "    driver = webdriver.Chrome()\n",
    "    try:\n",
    "        driver.maximize_window()\n",
    "        driver.get(URL)\n",
    "        time.sleep(10)\n",
    "        webElement = driver.execute_script('return document.getElementsByClassName(\"table-main detail-odds sortable\")[0].outerHTML')\n",
    "        title = driver.execute_script('return document.title')\n",
    "    except Exception as e:\n",
    "        print(f\"Um erro ocorreu ao executar o arquivo: \\nLog: {e}\")\n",
    "    \n",
    "    assert isinstance(webElement, str) and isinstance(webElement, str) \n",
    "    print(title)\n",
    "\n",
    "    SoupElement = BeautifulSoup(webElement, 'html.parser')\n",
    "    raw_text = [text for text in SoupElement.stripped_strings]\n",
    "    # print(raw_text)\n",
    "\n",
    "    driver.close()\n",
    "    return retrieve_bet_houses_info_from_spec_game(raw_text)"
   ]
  },
  {
   "cell_type": "code",
   "execution_count": null,
   "metadata": {},
   "outputs": [],
   "source": [
    "url = \"https://www.oddsportal.com/soccer/brazil/serie-a\"\n",
    "driver = webdriver.Chrome()\n",
    "webElement = None\n",
    "\n",
    "try:\n",
    "    driver.maximize_window()\n",
    "    driver.get(url)\n",
    "    time.sleep(10)\n",
    "    webElement = driver.execute_script('return document.getElementsByClassName(\"table-main\")[0].outerHTML')\n",
    "    print(\"Jogos baixados com sucesso.\")\n",
    "except Exception as e:\n",
    "    print(f\"Um erro ocorreu ao executar o arquivo: \\nLog: {e}\")\n",
    "    driver.close()\n",
    "    exit(-1)\n",
    "finally:\n",
    "    driver.close()\n",
    "\n",
    "\n",
    "assert isinstance(webElement, str)\n",
    "\n",
    "SoupElement = BeautifulSoup(webElement, 'html.parser')\n",
    "raw_text = [text for text in SoupElement.stripped_strings]\n",
    "\n",
    "# Obtém todos os jogos disponíveis na tabela\n",
    "for href in SoupElement.find_all('a', href=True):\n",
    "    if href['href'][:23]  == '/soccer/brazil/serie-a/' and href['href'] != SUBURL:\n",
    "        available_games.append(href['href'])\n",
    "\n",
    "# print(available_games)\n",
    "for i, link in enumerate(available_games):\n",
    "    print(retrieve_game_parsed_text(\"https:www.oddsportal.com\" + link))1"
   ]
  },
  {
   "cell_type": "code",
   "execution_count": null,
   "metadata": {},
   "outputs": [],
   "source": []
  },
  {
   "cell_type": "code",
   "execution_count": null,
   "metadata": {},
   "outputs": [],
   "source": []
  }
 ],
 "metadata": {
  "kernelspec": {
   "display_name": "Python 3.10.5 64-bit (windows store)",
   "language": "python",
   "name": "python3"
  },
  "language_info": {
   "codemirror_mode": {
    "name": "ipython",
    "version": 3
   },
   "file_extension": ".py",
   "mimetype": "text/x-python",
   "name": "python",
   "nbconvert_exporter": "python",
   "pygments_lexer": "ipython3",
   "version": "3.10.5"
  },
  "orig_nbformat": 4,
  "vscode": {
   "interpreter": {
    "hash": "d0f5b17bf2e0ae15bbaa4312450a0fd6c02ab3a236801ce07cd1404e18b674c4"
   }
  }
 },
 "nbformat": 4,
 "nbformat_minor": 2
}
